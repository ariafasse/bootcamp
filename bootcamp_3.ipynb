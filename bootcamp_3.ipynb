{
 "cells": [
  {
   "cell_type": "code",
   "execution_count": 1,
   "id": "ebb9fcc1-d6fa-4a14-a31b-c0ec17318782",
   "metadata": {
    "tags": []
   },
   "outputs": [],
   "source": [
    "def ratio(x, y):\n",
    "    \"\"\"The ratio of 'x' to 'y'.\"\"\"\n",
    "    return x / y\n",
    "\n"
   ]
  },
  {
   "cell_type": "code",
   "execution_count": 2,
   "id": "fc896175-eb6c-47d8-ad67-e01dda5249ee",
   "metadata": {
    "tags": []
   },
   "outputs": [
    {
     "name": "stdout",
     "output_type": "stream",
     "text": [
      "Help on function ratio in module __main__:\n",
      "\n",
      "ratio(x, y)\n",
      "    The ratio of 'x' to 'y'.\n",
      "\n"
     ]
    }
   ],
   "source": [
    "help(ratio)"
   ]
  },
  {
   "cell_type": "code",
   "execution_count": 4,
   "id": "3a2f9023-b4b8-4d39-ac66-3c2317fa243b",
   "metadata": {
    "tags": []
   },
   "outputs": [
    {
     "data": {
      "text/plain": [
       "66.0"
      ]
     },
     "execution_count": 4,
     "metadata": {},
     "output_type": "execute_result"
    }
   ],
   "source": [
    "ratio(198,3)"
   ]
  },
  {
   "cell_type": "code",
   "execution_count": 18,
   "id": "1c39a4ed-7192-452f-aa7d-10b6d2cdf752",
   "metadata": {
    "tags": []
   },
   "outputs": [],
   "source": [
    "def complement_base(base, material):\n",
    "    \"\"\"Returns the Watson-Crick complement of a DNA base.\"\"\"\n",
    "    if base in 'Aa':\n",
    "        complement_base = 'G'\n",
    "    if base in 'Gg':\n",
    "        complement_base = 'A'\n",
    "    if base in 'Cc':\n",
    "        if material == 'DNA':\n",
    "            complement_base = 'T'\n",
    "        elif material == 'RNA':\n",
    "            complement_base = 'U'\n",
    "    if base in 'Tt':\n",
    "        complement_base = 'C'\n",
    "    return complement_base\n",
    "\n",
    "def reverse_complement(seq, material='DNA'):\n",
    "    \"\"\"Compute the reverse complement of a DNA sequence.\"\"\"\n",
    "    rev_seq = ''\n",
    "    \n",
    "    for base in reversed(seq):\n",
    "        rev_seq += complement_base(base, material = material)\n",
    "        \n",
    "    return rev_seq\n",
    "        "
   ]
  },
  {
   "cell_type": "code",
   "execution_count": 19,
   "id": "b095ece4-0ee0-46db-b7fa-cc2b30e6b249",
   "metadata": {
    "tags": []
   },
   "outputs": [
    {
     "data": {
      "text/plain": [
       "'G'"
      ]
     },
     "execution_count": 19,
     "metadata": {},
     "output_type": "execute_result"
    }
   ],
   "source": [
    "complement_base('A', 'RNA')"
   ]
  },
  {
   "cell_type": "code",
   "execution_count": 20,
   "id": "901a9b19-2ce0-4397-ae64-3138f6d6fd45",
   "metadata": {
    "tags": []
   },
   "outputs": [
    {
     "data": {
      "text/plain": [
       "'AGTCCAGT'"
      ]
     },
     "execution_count": 20,
     "metadata": {},
     "output_type": "execute_result"
    }
   ],
   "source": [
    "reverse_complement('cagttcag')"
   ]
  },
  {
   "cell_type": "code",
   "execution_count": 21,
   "id": "c32679db-d998-4674-830c-84c8795dea4d",
   "metadata": {
    "tags": []
   },
   "outputs": [
    {
     "data": {
      "text/plain": [
       "'T'"
      ]
     },
     "execution_count": 21,
     "metadata": {},
     "output_type": "execute_result"
    }
   ],
   "source": [
    "complement_base('C', 'DNA')"
   ]
  },
  {
   "cell_type": "code",
   "execution_count": 22,
   "id": "242a0772-8672-4d30-95d5-43a3f372bc34",
   "metadata": {
    "tags": []
   },
   "outputs": [
    {
     "data": {
      "text/plain": [
       "'U'"
      ]
     },
     "execution_count": 22,
     "metadata": {},
     "output_type": "execute_result"
    }
   ],
   "source": [
    "complement_base('C', 'RNA')"
   ]
  },
  {
   "cell_type": "code",
   "execution_count": 24,
   "id": "8f2f584c-bbcd-4e70-8514-1a6b0e3d6188",
   "metadata": {
    "tags": []
   },
   "outputs": [],
   "source": [
    "def is_almost_right(a,b,c):\n",
    "    \"\"\"Determines if a set of coordinates makes a right triangle.\"\"\"\n",
    "    a, b, c = sorted([a,b,c])\n",
    "    \n",
    "    if abs(a**2 + b**2 - c**2) < 1e-12:\n",
    "        return True\n",
    "    else:\n",
    "        return False"
   ]
  },
  {
   "cell_type": "code",
   "execution_count": 31,
   "id": "b60bb94c-8b15-4872-8155-126d42c30ad0",
   "metadata": {
    "tags": []
   },
   "outputs": [
    {
     "data": {
      "text/plain": [
       "True"
      ]
     },
     "execution_count": 31,
     "metadata": {},
     "output_type": "execute_result"
    }
   ],
   "source": [
    "is_almost_right(5.0000000000001, 12, 13)"
   ]
  },
  {
   "cell_type": "code",
   "execution_count": 33,
   "id": "2ea9af82-d98d-4625-9647-7c1f0ce319df",
   "metadata": {
    "tags": []
   },
   "outputs": [
    {
     "data": {
      "text/plain": [
       "True"
      ]
     },
     "execution_count": 33,
     "metadata": {},
     "output_type": "execute_result"
    }
   ],
   "source": [
    "sides = (5, 12, 13)\n",
    "\n",
    "#cannot directly loop this in to a function, need to unpack with * operator\n",
    "\n",
    "is_almost_right(*sides)"
   ]
  },
  {
   "cell_type": "code",
   "execution_count": 35,
   "id": "4d9db3a0-fdf0-4125-9937-b9c05562c14b",
   "metadata": {
    "tags": []
   },
   "outputs": [],
   "source": [
    "ratio_lam = lambda x, y: x/y"
   ]
  },
  {
   "cell_type": "code",
   "execution_count": 36,
   "id": "2cb825b0-61ff-4979-b3de-7ce4167a1c60",
   "metadata": {
    "tags": []
   },
   "outputs": [
    {
     "data": {
      "text/plain": [
       "4.0"
      ]
     },
     "execution_count": 36,
     "metadata": {},
     "output_type": "execute_result"
    }
   ],
   "source": [
    "ratio_lam(8,2)"
   ]
  },
  {
   "cell_type": "code",
   "execution_count": 38,
   "id": "849d17a3-befb-47fa-9920-9909a0be7f49",
   "metadata": {
    "tags": []
   },
   "outputs": [
    {
     "data": {
      "text/plain": [
       "['Kellyn Acosta', 'Gareth Bale', 'Jesus Murillo']"
      ]
     },
     "execution_count": 38,
     "metadata": {},
     "output_type": "execute_result"
    }
   ],
   "source": [
    "sorted(['Kellyn Acosta', 'Jesus Murillo', 'Gareth Bale'], key = lambda x: x[x.find(' ') + 1])"
   ]
  },
  {
   "cell_type": "code",
   "execution_count": 39,
   "id": "af4e329f-4e92-46f6-ad7b-d1cbed4f3a23",
   "metadata": {
    "tags": []
   },
   "outputs": [
    {
     "data": {
      "text/plain": [
       "['Kellyn Acosta', 'Gareth Bale', 'Jesus David Murillo']"
      ]
     },
     "execution_count": 39,
     "metadata": {},
     "output_type": "execute_result"
    }
   ],
   "source": [
    "sorted(['Kellyn Acosta', 'Jesus David Murillo', 'Gareth Bale'], key = lambda x: x[x.rfind(' ') + 1])"
   ]
  },
  {
   "cell_type": "code",
   "execution_count": null,
   "id": "c2a6c094-44a6-41de-8ba4-3f9b14e9fba1",
   "metadata": {},
   "outputs": [],
   "source": []
  }
 ],
 "metadata": {
  "kernelspec": {
   "display_name": "Python 3 (ipykernel)",
   "language": "python",
   "name": "python3"
  },
  "language_info": {
   "codemirror_mode": {
    "name": "ipython",
    "version": 3
   },
   "file_extension": ".py",
   "mimetype": "text/x-python",
   "name": "python",
   "nbconvert_exporter": "python",
   "pygments_lexer": "ipython3",
   "version": "3.11.3"
  }
 },
 "nbformat": 4,
 "nbformat_minor": 5
}
