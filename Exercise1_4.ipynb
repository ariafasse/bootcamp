{
 "cells": [
  {
   "cell_type": "code",
   "execution_count": 39,
   "id": "b0ab7689-5b59-44b1-97e9-1f0bcec96b5f",
   "metadata": {
    "tags": []
   },
   "outputs": [],
   "source": [
    "\n",
    "def complement_base(base, material):\n",
    "    \"\"\"Returns the Watson-Crick complement of a DNA base.\"\"\"\n",
    "    if base in 'Cc':\n",
    "        complement_base = 'G'\n",
    "    if base in 'Tt':\n",
    "        complement_base = 'A'\n",
    "    if base in 'Aa':\n",
    "        if material == 'DNA':\n",
    "            complement_base = 'T'\n",
    "        elif material == 'RNA':\n",
    "            complement_base = 'U'\n",
    "    if base in 'Gg':\n",
    "        complement_base = 'C'\n",
    "    return complement_base\n",
    "\n",
    "def reverse_complement(seq, material='DNA'):\n",
    "    \"\"\"Compute the reverse complement of a DNA sequence.\"\"\"\n",
    "    rev_seq = ''\n",
    "    \n",
    "    for base in reversed(seq):\n",
    "        rev_seq += complement_base(base, material = material)\n",
    "        \n",
    "    return rev_seq\n",
    "        "
   ]
  },
  {
   "cell_type": "code",
   "execution_count": 40,
   "id": "99cdcf34-84de-4d81-b073-2ec3f4676a48",
   "metadata": {
    "tags": []
   },
   "outputs": [
    {
     "name": "stdout",
     "output_type": "stream",
     "text": [
      "['A', 'B', 'C', 'D']\n",
      "DCBA\n"
     ]
    },
    {
     "data": {
      "text/plain": [
       "str"
      ]
     },
     "execution_count": 40,
     "metadata": {},
     "output_type": "execute_result"
    }
   ],
   "source": [
    "seq = 'ABCD'\n",
    "seq = list(seq)\n",
    "print(seq)\n",
    "rev_seq = seq[-1::-1]\n",
    "rev_seq\n",
    "rev_seq=''.join(rev_seq)\n",
    "print(rev_seq)\n",
    "type(rev_seq)"
   ]
  },
  {
   "cell_type": "code",
   "execution_count": 41,
   "id": "bc1b775f-e20e-4bce-8dde-5b95ddc78c7f",
   "metadata": {
    "tags": []
   },
   "outputs": [],
   "source": [
    "def reverse_complement_two(seq, material='DNA'):\n",
    "    \"\"\"Compute the reverse complement of a DNA sequence.\"\"\"\n",
    "    rev_comp_seq = ''\n",
    "    rev_seq = seq[-1::-1]\n",
    "    rev_seq = ''.join(rev_seq)\n",
    "    \n",
    "    for base in rev_seq:\n",
    "        rev_comp_seq += complement_base(base, material = material)\n",
    "\n",
    "    return rev_comp_seq\n"
   ]
  },
  {
   "cell_type": "code",
   "execution_count": 42,
   "id": "f1cb614b-b562-4d8c-8fe4-33fd5a610f6a",
   "metadata": {
    "tags": []
   },
   "outputs": [],
   "source": [
    "def reverse_complement_three(seq, material='DNA'):\n",
    "    \"\"\"Compute the reverse complement of a DNA sequence.\"\"\"\n",
    "    seq = seq.lower()\n",
    "    rev_comp_seq = ''\n",
    "    rev_seq = seq[-1::-1]\n",
    "    rev_seq = ''.join(rev_seq)     \n",
    "    rev_comp_seq = rev_seq.replace('a', 'T').replace('t', 'A').replace('c', 'G').replace('g','C')\n",
    "        \n",
    "    return rev_seq, rev_comp_seq"
   ]
  },
  {
   "cell_type": "code",
   "execution_count": null,
   "id": "3c3e2602-7e8e-4a33-8f82-881130d176e2",
   "metadata": {},
   "outputs": [],
   "source": []
  },
  {
   "cell_type": "code",
   "execution_count": 43,
   "id": "1915a383-8c59-492d-9860-be88176a15ea",
   "metadata": {
    "tags": []
   },
   "outputs": [
    {
     "data": {
      "text/plain": [
       "'CGAGTCAGACGACT'"
      ]
     },
     "execution_count": 43,
     "metadata": {},
     "output_type": "execute_result"
    }
   ],
   "source": [
    "reverse_complement('AGTCGtctgactcg')\n"
   ]
  },
  {
   "cell_type": "code",
   "execution_count": 44,
   "id": "53b84f0c-96c4-4454-9dd8-8847b1581543",
   "metadata": {
    "tags": []
   },
   "outputs": [
    {
     "data": {
      "text/plain": [
       "'CGAGTCAGACGACT'"
      ]
     },
     "execution_count": 44,
     "metadata": {},
     "output_type": "execute_result"
    }
   ],
   "source": [
    "reverse_complement_two('AGTCGtctgactcg')"
   ]
  },
  {
   "cell_type": "code",
   "execution_count": 45,
   "id": "2c7fdd8d-2e9c-44d3-bc12-042f10232807",
   "metadata": {
    "tags": []
   },
   "outputs": [
    {
     "data": {
      "text/plain": [
       "('gctcagtctgctga', 'CGAGTCAGACGACT')"
      ]
     },
     "execution_count": 45,
     "metadata": {},
     "output_type": "execute_result"
    }
   ],
   "source": [
    "reverse_complement_three('AGTCGtctgactcg')"
   ]
  },
  {
   "cell_type": "code",
   "execution_count": null,
   "id": "b0d4eff5-cc6a-46c2-bba0-cd5f5bbdb01a",
   "metadata": {},
   "outputs": [],
   "source": []
  }
 ],
 "metadata": {
  "kernelspec": {
   "display_name": "Python 3 (ipykernel)",
   "language": "python",
   "name": "python3"
  },
  "language_info": {
   "codemirror_mode": {
    "name": "ipython",
    "version": 3
   },
   "file_extension": ".py",
   "mimetype": "text/x-python",
   "name": "python",
   "nbconvert_exporter": "python",
   "pygments_lexer": "ipython3",
   "version": "3.11.3"
  }
 },
 "nbformat": 4,
 "nbformat_minor": 5
}
