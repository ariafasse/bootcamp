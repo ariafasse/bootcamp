{
 "cells": [
  {
   "cell_type": "code",
   "execution_count": 18,
   "id": "37ea9390-41a0-4eb3-bac1-aa6f244abc07",
   "metadata": {
    "tags": []
   },
   "outputs": [
    {
     "name": "stdout",
     "output_type": "stream",
     "text": [
      "0 T\n",
      "T\n",
      "1 A\n",
      "A\n",
      "A\n",
      "2 T\n",
      "T\n",
      "3 G\n",
      "G\n",
      "4 C\n",
      "C\n",
      "5 T\n",
      "T\n",
      "6 C\n",
      "C\n",
      "7 G\n",
      "G\n"
     ]
    }
   ],
   "source": [
    "#start with the first element of one sequence\n",
    "#does the first element of one sequence match the first element of the other sequence\n",
    "#if not, move one element in the other sequence until they match\n",
    "#then go to the second element of one sequence\n",
    "#does the second element of one sequence match the second element of the other sequence\n",
    "#if yes, keep going\n",
    "#if not, record this string in a list and return to second element of one sequence\n",
    "\n",
    "#longest_common_substring(s1,s2)\n",
    "\n",
    "s1 = 'TATGCTCG'\n",
    "s2 = 'ATGCA'\n",
    "for i, base in enumerate(s1):\n",
    "    print(i, base)\n",
    "    for j, jbase in enumerate(s2):\n",
    "        if base == jbase:\n",
    "            print(jbase)\n",
    "\n"
   ]
  },
  {
   "cell_type": "code",
   "execution_count": null,
   "id": "dda89c3d-e325-457d-a3fb-fe4282a21650",
   "metadata": {},
   "outputs": [],
   "source": []
  }
 ],
 "metadata": {
  "kernelspec": {
   "display_name": "Python 3 (ipykernel)",
   "language": "python",
   "name": "python3"
  },
  "language_info": {
   "codemirror_mode": {
    "name": "ipython",
    "version": 3
   },
   "file_extension": ".py",
   "mimetype": "text/x-python",
   "name": "python",
   "nbconvert_exporter": "python",
   "pygments_lexer": "ipython3",
   "version": "3.11.3"
  }
 },
 "nbformat": 4,
 "nbformat_minor": 5
}
