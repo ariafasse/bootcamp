{
 "cells": [
  {
   "cell_type": "code",
   "execution_count": 15,
   "id": "c9b90ad9-b0fc-44f2-8029-2d2b0d0b3c82",
   "metadata": {
    "tags": []
   },
   "outputs": [],
   "source": [
    "seconds_past_midnight = 63252"
   ]
  },
  {
   "cell_type": "code",
   "execution_count": 16,
   "id": "c9a88101-85b3-45ef-bac4-da4133f3cdb6",
   "metadata": {
    "tags": []
   },
   "outputs": [
    {
     "name": "stdout",
     "output_type": "stream",
     "text": [
      "17:34:12\n"
     ]
    }
   ],
   "source": [
    "#need to find how many minutes (remainder is seconds)\n",
    "#then how many hours (remainder is minutes)\n",
    "\n",
    "seconds_rem = seconds_past_midnight % 60\n",
    "\n",
    "minutes_past_midnight = seconds_past_midnight//60\n",
    "minutes_rem = minutes_past_midnight % 60\n",
    "\n",
    "hours_past_midnight = minutes_past_midnight//60\n",
    "\n",
    "print(f'{hours_past_midnight}:{minutes_rem}:{seconds_rem}')\n"
   ]
  },
  {
   "cell_type": "code",
   "execution_count": null,
   "id": "5f2ed2ee-5621-4364-bf69-bd53d1b82061",
   "metadata": {},
   "outputs": [],
   "source": []
  }
 ],
 "metadata": {
  "kernelspec": {
   "display_name": "Python 3 (ipykernel)",
   "language": "python",
   "name": "python3"
  },
  "language_info": {
   "codemirror_mode": {
    "name": "ipython",
    "version": 3
   },
   "file_extension": ".py",
   "mimetype": "text/x-python",
   "name": "python",
   "nbconvert_exporter": "python",
   "pygments_lexer": "ipython3",
   "version": "3.11.3"
  }
 },
 "nbformat": 4,
 "nbformat_minor": 5
}
