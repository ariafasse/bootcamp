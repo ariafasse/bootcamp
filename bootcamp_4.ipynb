{
 "cells": [
  {
   "cell_type": "code",
   "execution_count": 1,
   "id": "d0da48bc-048f-4b5b-a155-d8f5b267a0bf",
   "metadata": {
    "tags": []
   },
   "outputs": [],
   "source": [
    "my_str = 'The Dude abides.'\n"
   ]
  },
  {
   "cell_type": "code",
   "execution_count": 2,
   "id": "e5907810-9827-4908-b827-6ba0e140d99d",
   "metadata": {
    "tags": []
   },
   "outputs": [
    {
     "data": {
      "text/plain": [
       "'u'"
      ]
     },
     "execution_count": 2,
     "metadata": {},
     "output_type": "execute_result"
    }
   ],
   "source": [
    "my_str[5]"
   ]
  },
  {
   "cell_type": "code",
   "execution_count": 3,
   "id": "e27addb5-7b42-4fc1-a713-61ba3a6da737",
   "metadata": {
    "tags": []
   },
   "outputs": [
    {
     "data": {
      "text/plain": [
       "'.sediba eduD ehT'"
      ]
     },
     "execution_count": 3,
     "metadata": {},
     "output_type": "execute_result"
    }
   ],
   "source": [
    "my_str[::-1]"
   ]
  },
  {
   "cell_type": "code",
   "execution_count": 7,
   "id": "42f5b39c-8188-4caf-96dd-dc17a2f4e944",
   "metadata": {
    "tags": []
   },
   "outputs": [
    {
     "data": {
      "text/plain": [
       "0.4583333333333333"
      ]
     },
     "execution_count": 7,
     "metadata": {},
     "output_type": "execute_result"
    }
   ],
   "source": [
    "seq = 'AUCUAUGUCAGCUAUGCUAUUGCUAGGCUAAUGGCCCGAAUUCGAUGC'\n",
    "\n",
    "(seq.count('G') + seq.count('C'))/len(seq)"
   ]
  },
  {
   "cell_type": "code",
   "execution_count": 10,
   "id": "d80b1134-5e73-4ed5-9511-0ffd4409a894",
   "metadata": {
    "tags": []
   },
   "outputs": [
    {
     "data": {
      "text/plain": [
       "3"
      ]
     },
     "execution_count": 10,
     "metadata": {},
     "output_type": "execute_result"
    }
   ],
   "source": [
    "'AAAAAAA'.count('AA')"
   ]
  },
  {
   "cell_type": "code",
   "execution_count": 11,
   "id": "44174ef9-8ab1-4884-a5e4-288f36a91749",
   "metadata": {
    "tags": []
   },
   "outputs": [
    {
     "data": {
      "text/plain": [
       "4"
      ]
     },
     "execution_count": 11,
     "metadata": {},
     "output_type": "execute_result"
    }
   ],
   "source": [
    "seq.find('AUG')"
   ]
  },
  {
   "cell_type": "code",
   "execution_count": 12,
   "id": "fe3562a7-9a3d-44bc-b952-1e37c701e0fd",
   "metadata": {
    "tags": []
   },
   "outputs": [
    {
     "data": {
      "text/plain": [
       "44"
      ]
     },
     "execution_count": 12,
     "metadata": {},
     "output_type": "execute_result"
    }
   ],
   "source": [
    "seq.rfind('AUG')"
   ]
  },
  {
   "cell_type": "code",
   "execution_count": 14,
   "id": "d0c8737e-8f6d-4d84-b3ed-df0b6dd82ce5",
   "metadata": {
    "tags": []
   },
   "outputs": [
    {
     "data": {
      "text/plain": [
       "'ATCTATGTCAGCTATGCTATTGCTAGGCTAATGGCCCGAATTCGATGC'"
      ]
     },
     "execution_count": 14,
     "metadata": {},
     "output_type": "execute_result"
    }
   ],
   "source": [
    "seq.replace('U', 'T')"
   ]
  },
  {
   "cell_type": "code",
   "execution_count": 15,
   "id": "5849aa02-1793-4888-9c80-9692d072edad",
   "metadata": {
    "tags": []
   },
   "outputs": [],
   "source": [
    "word_tuple = ('Get', 'me', 'out', 'of', 'here.')"
   ]
  },
  {
   "cell_type": "code",
   "execution_count": 16,
   "id": "ef21838d-4de5-4f13-b8d8-801402d0b6d0",
   "metadata": {
    "tags": []
   },
   "outputs": [
    {
     "data": {
      "text/plain": [
       "'Get me out of here.'"
      ]
     },
     "execution_count": 16,
     "metadata": {},
     "output_type": "execute_result"
    }
   ],
   "source": [
    "' '.join(word_tuple)"
   ]
  },
  {
   "cell_type": "code",
   "execution_count": 18,
   "id": "29162be5-427d-4de4-af74-e83966483202",
   "metadata": {
    "tags": []
   },
   "outputs": [
    {
     "name": "stdout",
     "output_type": "stream",
     "text": [
      "\n",
      "During this bootcamp, I feel sad.\n",
      "The instructors give us sleep deprivation.\n",
      "\n"
     ]
    }
   ],
   "source": [
    "my_madlib = \"\"\"\n",
    "During this bootcamp, I feel {adjective}.\n",
    "The instructors give us {plural_noun}.\n",
    "\"\"\".format(adjective='sad', plural_noun='sleep deprivation')\n",
    "print(my_madlib)"
   ]
  },
  {
   "cell_type": "code",
   "execution_count": 19,
   "id": "1f11ed34-153f-4ba6-a38f-abc511a36f1c",
   "metadata": {
    "tags": []
   },
   "outputs": [
    {
     "name": "stdout",
     "output_type": "stream",
     "text": [
      "There are 0050 states in the US.\n"
     ]
    }
   ],
   "source": [
    "print(\"There are {n:04d} states in the US.\".format(n=50))"
   ]
  },
  {
   "cell_type": "code",
   "execution_count": 21,
   "id": "1281a029-1747-496f-9bb4-7495682823f3",
   "metadata": {
    "tags": []
   },
   "outputs": [
    {
     "name": "stdout",
     "output_type": "stream",
     "text": [
      "There are \n",
      "During this bootcamp, I feel sad.\n",
      "The instructors give us sleep deprivation.\n",
      " states in the US.\n"
     ]
    }
   ],
   "source": [
    "print(f'There are {my_madlib} states in the US.')"
   ]
  },
  {
   "cell_type": "code",
   "execution_count": null,
   "id": "56d51b8d-2261-4ed2-9f66-8b0b223ed22c",
   "metadata": {},
   "outputs": [],
   "source": []
  }
 ],
 "metadata": {
  "kernelspec": {
   "display_name": "Python 3 (ipykernel)",
   "language": "python",
   "name": "python3"
  },
  "language_info": {
   "codemirror_mode": {
    "name": "ipython",
    "version": 3
   },
   "file_extension": ".py",
   "mimetype": "text/x-python",
   "name": "python",
   "nbconvert_exporter": "python",
   "pygments_lexer": "ipython3",
   "version": "3.11.3"
  }
 },
 "nbformat": 4,
 "nbformat_minor": 5
}
