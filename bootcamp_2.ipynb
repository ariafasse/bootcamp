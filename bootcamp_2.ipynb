{
 "cells": [
  {
   "cell_type": "code",
   "execution_count": 8,
   "id": "5727be12-b1c3-4eff-863f-42f7d996b6b2",
   "metadata": {
    "tags": []
   },
   "outputs": [
    {
     "name": "stdout",
     "output_type": "stream",
     "text": [
      "The GC content of this sequence is 47.69 %\n"
     ]
    }
   ],
   "source": [
    "seq = 'GATCCAATTGACTAGACACCAGTGACCCGTATTCGATCGATACGTAGCTGACTGGAAGTTCCGAT'\n",
    "\n",
    "#Initialize GC counter\n",
    "n_gc = 0\n",
    "\n",
    "#Loop through sequence and count bases, GCs\n",
    "for base in seq:\n",
    "    if base in 'GCgc':\n",
    "        n_gc += 1\n",
    "        \n",
    "gc_content = n_gc / len(seq)\n",
    "gc_percentage = gc_content*100\n",
    "print('The GC content of this sequence is', format(gc_percentage, \".2f\"), '%')"
   ]
  },
  {
   "cell_type": "code",
   "execution_count": 15,
   "id": "4504f8e6-a768-49cb-b1e8-1536691e3dd2",
   "metadata": {
    "tags": []
   },
   "outputs": [
    {
     "name": "stdout",
     "output_type": "stream",
     "text": [
      "[2, 4, 6, 8, 10]\n"
     ]
    }
   ],
   "source": [
    "my_integers = [1,2,3,4,5]\n",
    "\n",
    "#Double each integer\n",
    "for i in range(len(my_integers)):\n",
    "    k = my_integers[i]*2\n",
    "    my_integers[i] = k\n",
    "    \n",
    "print(my_integers)"
   ]
  },
  {
   "cell_type": "code",
   "execution_count": 19,
   "id": "d5953999-a36c-40df-a11f-f0c118eb04b8",
   "metadata": {
    "tags": []
   },
   "outputs": [
    {
     "name": "stdout",
     "output_type": "stream",
     "text": [
      "[2, 4, 6, 8, 10]\n"
     ]
    }
   ],
   "source": [
    "my_integers = [1,2,3,4,5]\n",
    "\n",
    "#Double each integer\n",
    "for i, _ in enumerate(my_integers):\n",
    "    my_integers[i]*= 2\n",
    "    \n",
    "print(my_integers)"
   ]
  },
  {
   "cell_type": "code",
   "execution_count": 20,
   "id": "cbb1d747-eac7-4ae1-82dc-d6c9021cb006",
   "metadata": {
    "tags": []
   },
   "outputs": [
    {
     "name": "stdout",
     "output_type": "stream",
     "text": [
      "0 G\n",
      "1 A\n",
      "2 T\n",
      "3 C\n",
      "4 C\n",
      "5 A\n",
      "6 A\n",
      "7 T\n",
      "8 T\n",
      "9 G\n",
      "10 A\n",
      "11 C\n",
      "12 T\n",
      "13 A\n",
      "14 G\n",
      "15 A\n",
      "16 C\n",
      "17 A\n",
      "18 C\n",
      "19 C\n",
      "20 A\n",
      "21 G\n",
      "22 T\n",
      "23 G\n",
      "24 A\n",
      "25 C\n",
      "26 C\n",
      "27 C\n",
      "28 G\n",
      "29 T\n",
      "30 A\n",
      "31 T\n",
      "32 T\n",
      "33 C\n",
      "34 G\n",
      "35 A\n",
      "36 T\n",
      "37 C\n",
      "38 G\n",
      "39 A\n",
      "40 T\n",
      "41 A\n",
      "42 C\n",
      "43 G\n",
      "44 T\n",
      "45 A\n",
      "46 G\n",
      "47 C\n",
      "48 T\n",
      "49 G\n",
      "50 A\n",
      "51 C\n",
      "52 T\n",
      "53 G\n",
      "54 G\n",
      "55 A\n",
      "56 A\n",
      "57 G\n",
      "58 T\n",
      "59 T\n",
      "60 C\n",
      "61 C\n",
      "62 G\n",
      "63 A\n",
      "64 T\n",
      "The GC content of this sequence is 47.69 %\n"
     ]
    }
   ],
   "source": [
    "seq = 'GATCCAATTGACTAGACACCAGTGACCCGTATTCGATCGATACGTAGCTGACTGGAAGTTCCGAT'\n",
    "\n",
    "#Initialize GC counter\n",
    "n_gc = 0\n",
    "\n",
    "#Loop through sequence and count bases, GCs\n",
    "for i, base in enumerate(seq):\n",
    "    print(i, base)\n",
    "\n",
    "    if base in 'GCgc':\n",
    "        n_gc += 1\n",
    "        \n",
    "gc_content = n_gc / len(seq)\n",
    "gc_percentage = gc_content*100\n",
    "print('The GC content of this sequence is', format(gc_percentage, \".2f\"), '%')"
   ]
  },
  {
   "cell_type": "code",
   "execution_count": 21,
   "id": "e0e2cbd1-fd73-41c6-aab8-53b95c7645af",
   "metadata": {
    "tags": []
   },
   "outputs": [
    {
     "name": "stdout",
     "output_type": "stream",
     "text": [
      "19 Dunn D\n",
      "8 Ertz MF\n",
      "16 Lavelle MF\n",
      "15 Rapinoe F\n"
     ]
    }
   ],
   "source": [
    "#pythonic iterators\n",
    "\n",
    "names = ('Dunn', 'Ertz', 'Lavelle', 'Rapinoe')\n",
    "positions = ('D', 'MF', 'MF', 'F')\n",
    "numbers = (19, 8, 16, 15)\n",
    "\n",
    "for num, name, pos in zip(numbers, names, positions):\n",
    "    print(num, name, pos)"
   ]
  },
  {
   "cell_type": "code",
   "execution_count": 31,
   "id": "a49a72ec-6831-4583-8bc7-efae76db88b3",
   "metadata": {
    "tags": []
   },
   "outputs": [
    {
     "name": "stdout",
     "output_type": "stream",
     "text": [
      "10\n",
      "9\n",
      "8\n",
      "7\n",
      "6\n",
      "5\n",
      "4\n",
      "3\n",
      "2\n",
      "1\n",
      "ignition\n"
     ]
    }
   ],
   "source": [
    "count_up = ['ignition', 1, 2, 3, 4, 5, 6, 7, 8, 9, 10]\n",
    "for count in reversed(count_up):\n",
    "    print(count)"
   ]
  },
  {
   "cell_type": "code",
   "execution_count": 27,
   "id": "ca4f5b9b-d881-440e-b77c-986d38cc5f2b",
   "metadata": {
    "tags": []
   },
   "outputs": [
    {
     "name": "stdout",
     "output_type": "stream",
     "text": [
      "The start codon is at position 13\n"
     ]
    }
   ],
   "source": [
    "seq = 'gauagagcgucgcaugcgucgaucgcgaucgacuaugaucgaucgcuagcug'\n",
    "\n",
    "start_codon = 'aug'\n",
    "\n",
    "i = 0\n",
    "\n",
    "while seq[i : i+3] != start_codon:\n",
    "    i+=1\n",
    "\n",
    "print(\"The start codon is at position\", i)"
   ]
  },
  {
   "cell_type": "code",
   "execution_count": null,
   "id": "a5ba1b01-55b5-415d-8316-e0876e083c91",
   "metadata": {},
   "outputs": [],
   "source": []
  }
 ],
 "metadata": {
  "kernelspec": {
   "display_name": "Python 3 (ipykernel)",
   "language": "python",
   "name": "python3"
  },
  "language_info": {
   "codemirror_mode": {
    "name": "ipython",
    "version": 3
   },
   "file_extension": ".py",
   "mimetype": "text/x-python",
   "name": "python",
   "nbconvert_exporter": "python",
   "pygments_lexer": "ipython3",
   "version": "3.11.3"
  }
 },
 "nbformat": 4,
 "nbformat_minor": 5
}
